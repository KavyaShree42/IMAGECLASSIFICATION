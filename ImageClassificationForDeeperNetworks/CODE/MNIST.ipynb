{
  "nbformat": 4,
  "nbformat_minor": 0,
  "metadata": {
    "colab": {
      "provenance": [],
      "gpuType": "T4"
    },
    "kernelspec": {
      "name": "python3",
      "display_name": "Python 3"
    },
    "language_info": {
      "name": "python"
    },
    "accelerator": "GPU"
  },
  "cells": [
    {
      "cell_type": "code",
      "execution_count": null,
      "metadata": {
        "colab": {
          "base_uri": "https://localhost:8080/"
        },
        "id": "tZXRtsRo15mH",
        "outputId": "c92c59a1-4b40-42d4-e920-01d8c0c6c899"
      },
      "outputs": [
        {
          "output_type": "stream",
          "name": "stdout",
          "text": [
            "Requirement already satisfied: torchvision in /usr/local/lib/python3.10/dist-packages (0.17.1+cu121)\n",
            "Requirement already satisfied: numpy in /usr/local/lib/python3.10/dist-packages (from torchvision) (1.25.2)\n",
            "Requirement already satisfied: torch==2.2.1 in /usr/local/lib/python3.10/dist-packages (from torchvision) (2.2.1+cu121)\n",
            "Requirement already satisfied: pillow!=8.3.*,>=5.3.0 in /usr/local/lib/python3.10/dist-packages (from torchvision) (9.4.0)\n",
            "Requirement already satisfied: filelock in /usr/local/lib/python3.10/dist-packages (from torch==2.2.1->torchvision) (3.14.0)\n",
            "Requirement already satisfied: typing-extensions>=4.8.0 in /usr/local/lib/python3.10/dist-packages (from torch==2.2.1->torchvision) (4.11.0)\n",
            "Requirement already satisfied: sympy in /usr/local/lib/python3.10/dist-packages (from torch==2.2.1->torchvision) (1.12)\n",
            "Requirement already satisfied: networkx in /usr/local/lib/python3.10/dist-packages (from torch==2.2.1->torchvision) (3.3)\n",
            "Requirement already satisfied: jinja2 in /usr/local/lib/python3.10/dist-packages (from torch==2.2.1->torchvision) (3.1.3)\n",
            "Requirement already satisfied: fsspec in /usr/local/lib/python3.10/dist-packages (from torch==2.2.1->torchvision) (2023.6.0)\n",
            "Collecting nvidia-cuda-nvrtc-cu12==12.1.105 (from torch==2.2.1->torchvision)\n",
            "  Using cached nvidia_cuda_nvrtc_cu12-12.1.105-py3-none-manylinux1_x86_64.whl (23.7 MB)\n",
            "Collecting nvidia-cuda-runtime-cu12==12.1.105 (from torch==2.2.1->torchvision)\n",
            "  Using cached nvidia_cuda_runtime_cu12-12.1.105-py3-none-manylinux1_x86_64.whl (823 kB)\n",
            "Collecting nvidia-cuda-cupti-cu12==12.1.105 (from torch==2.2.1->torchvision)\n",
            "  Using cached nvidia_cuda_cupti_cu12-12.1.105-py3-none-manylinux1_x86_64.whl (14.1 MB)\n",
            "Collecting nvidia-cudnn-cu12==8.9.2.26 (from torch==2.2.1->torchvision)\n",
            "  Using cached nvidia_cudnn_cu12-8.9.2.26-py3-none-manylinux1_x86_64.whl (731.7 MB)\n",
            "Collecting nvidia-cublas-cu12==12.1.3.1 (from torch==2.2.1->torchvision)\n",
            "  Using cached nvidia_cublas_cu12-12.1.3.1-py3-none-manylinux1_x86_64.whl (410.6 MB)\n",
            "Collecting nvidia-cufft-cu12==11.0.2.54 (from torch==2.2.1->torchvision)\n",
            "  Using cached nvidia_cufft_cu12-11.0.2.54-py3-none-manylinux1_x86_64.whl (121.6 MB)\n",
            "Collecting nvidia-curand-cu12==10.3.2.106 (from torch==2.2.1->torchvision)\n",
            "  Using cached nvidia_curand_cu12-10.3.2.106-py3-none-manylinux1_x86_64.whl (56.5 MB)\n",
            "Collecting nvidia-cusolver-cu12==11.4.5.107 (from torch==2.2.1->torchvision)\n",
            "  Using cached nvidia_cusolver_cu12-11.4.5.107-py3-none-manylinux1_x86_64.whl (124.2 MB)\n",
            "Collecting nvidia-cusparse-cu12==12.1.0.106 (from torch==2.2.1->torchvision)\n",
            "  Using cached nvidia_cusparse_cu12-12.1.0.106-py3-none-manylinux1_x86_64.whl (196.0 MB)\n",
            "Collecting nvidia-nccl-cu12==2.19.3 (from torch==2.2.1->torchvision)\n",
            "  Using cached nvidia_nccl_cu12-2.19.3-py3-none-manylinux1_x86_64.whl (166.0 MB)\n",
            "Collecting nvidia-nvtx-cu12==12.1.105 (from torch==2.2.1->torchvision)\n",
            "  Using cached nvidia_nvtx_cu12-12.1.105-py3-none-manylinux1_x86_64.whl (99 kB)\n",
            "Requirement already satisfied: triton==2.2.0 in /usr/local/lib/python3.10/dist-packages (from torch==2.2.1->torchvision) (2.2.0)\n",
            "Collecting nvidia-nvjitlink-cu12 (from nvidia-cusolver-cu12==11.4.5.107->torch==2.2.1->torchvision)\n",
            "  Using cached nvidia_nvjitlink_cu12-12.4.127-py3-none-manylinux2014_x86_64.whl (21.1 MB)\n",
            "Requirement already satisfied: MarkupSafe>=2.0 in /usr/local/lib/python3.10/dist-packages (from jinja2->torch==2.2.1->torchvision) (2.1.5)\n",
            "Requirement already satisfied: mpmath>=0.19 in /usr/local/lib/python3.10/dist-packages (from sympy->torch==2.2.1->torchvision) (1.3.0)\n",
            "Installing collected packages: nvidia-nvtx-cu12, nvidia-nvjitlink-cu12, nvidia-nccl-cu12, nvidia-curand-cu12, nvidia-cufft-cu12, nvidia-cuda-runtime-cu12, nvidia-cuda-nvrtc-cu12, nvidia-cuda-cupti-cu12, nvidia-cublas-cu12, nvidia-cusparse-cu12, nvidia-cudnn-cu12, nvidia-cusolver-cu12\n",
            "Successfully installed nvidia-cublas-cu12-12.1.3.1 nvidia-cuda-cupti-cu12-12.1.105 nvidia-cuda-nvrtc-cu12-12.1.105 nvidia-cuda-runtime-cu12-12.1.105 nvidia-cudnn-cu12-8.9.2.26 nvidia-cufft-cu12-11.0.2.54 nvidia-curand-cu12-10.3.2.106 nvidia-cusolver-cu12-11.4.5.107 nvidia-cusparse-cu12-12.1.0.106 nvidia-nccl-cu12-2.19.3 nvidia-nvjitlink-cu12-12.4.127 nvidia-nvtx-cu12-12.1.105\n"
          ]
        }
      ],
      "source": [
        "!pip install torchvision"
      ]
    },
    {
      "cell_type": "code",
      "source": [
        "import tensorflow as tf\n",
        "from tensorflow.keras import layers, models\n",
        "from tensorflow.keras.datasets import mnist\n",
        "\n",
        "# Load and preprocess the MNIST dataset\n",
        "(x_train, y_train), (x_test, y_test) = mnist.load_data()\n",
        "x_train = x_train.reshape((-1, 28, 28, 1)).astype('float32') / 255.0\n",
        "x_test = x_test.reshape((-1, 28, 28, 1)).astype('float32') / 255.0\n",
        "\n",
        "# Define VGG-like architecture\n",
        "def vgg_model_mnist():\n",
        "    model = models.Sequential()\n",
        "    model.add(layers.Conv2D(32, (3, 3), activation='relu', padding='same', input_shape=(28, 28, 1)))\n",
        "    model.add(layers.Conv2D(32, (3, 3), activation='relu', padding='same'))\n",
        "    model.add(layers.MaxPooling2D((2, 2)))\n",
        "\n",
        "    model.add(layers.Conv2D(64, (3, 3), activation='relu', padding='same'))\n",
        "    model.add(layers.Conv2D(64, (3, 3), activation='relu', padding='same'))\n",
        "    model.add(layers.MaxPooling2D((2, 2)))\n",
        "\n",
        "    model.add(layers.Conv2D(128, (3, 3), activation='relu', padding='same'))\n",
        "    model.add(layers.Conv2D(128, (3, 3), activation='relu', padding='same'))\n",
        "    model.add(layers.MaxPooling2D((2, 2)))\n",
        "\n",
        "    model.add(layers.Flatten())\n",
        "    model.add(layers.Dense(128, activation='relu'))\n",
        "    model.add(layers.Dense(10, activation='softmax'))\n",
        "    return model\n",
        "\n",
        "# Create the model\n",
        "model = vgg_model_mnist()\n",
        "\n",
        "# Compile the model\n",
        "model.compile(optimizer='adam',\n",
        "              loss='sparse_categorical_crossentropy',\n",
        "              metrics=['accuracy'])\n",
        "\n",
        "# Train the model\n",
        "history = model.fit(x_train, y_train, epochs=20, batch_size=128, validation_data=(x_test, y_test))\n",
        "\n",
        "# Evaluate the model\n",
        "test_loss, test_acc = model.evaluate(x_test, y_test)\n",
        "print(f'Test accuracy: {test_acc}')\n"
      ],
      "metadata": {
        "colab": {
          "base_uri": "https://localhost:8080/"
        },
        "id": "JIv1jWs_IztV",
        "outputId": "7553f660-63cf-45e7-d183-2ac5b922a731"
      },
      "execution_count": 5,
      "outputs": [
        {
          "output_type": "stream",
          "name": "stdout",
          "text": [
            "Epoch 1/20\n",
            "469/469 [==============================] - 297s 631ms/step - loss: 0.1545 - accuracy: 0.9508 - val_loss: 0.0359 - val_accuracy: 0.9876\n",
            "Epoch 2/20\n",
            "469/469 [==============================] - 299s 638ms/step - loss: 0.0384 - accuracy: 0.9879 - val_loss: 0.0336 - val_accuracy: 0.9901\n",
            "Epoch 3/20\n",
            "469/469 [==============================] - 301s 642ms/step - loss: 0.0276 - accuracy: 0.9916 - val_loss: 0.0263 - val_accuracy: 0.9910\n",
            "Epoch 4/20\n",
            "469/469 [==============================] - 298s 636ms/step - loss: 0.0205 - accuracy: 0.9934 - val_loss: 0.0256 - val_accuracy: 0.9930\n",
            "Epoch 5/20\n",
            "469/469 [==============================] - 298s 635ms/step - loss: 0.0174 - accuracy: 0.9944 - val_loss: 0.0204 - val_accuracy: 0.9927\n",
            "Epoch 6/20\n",
            "469/469 [==============================] - 297s 634ms/step - loss: 0.0165 - accuracy: 0.9945 - val_loss: 0.0206 - val_accuracy: 0.9931\n",
            "Epoch 7/20\n",
            "469/469 [==============================] - 298s 635ms/step - loss: 0.0132 - accuracy: 0.9958 - val_loss: 0.0233 - val_accuracy: 0.9928\n",
            "Epoch 8/20\n",
            "469/469 [==============================] - 297s 634ms/step - loss: 0.0108 - accuracy: 0.9967 - val_loss: 0.0288 - val_accuracy: 0.9931\n",
            "Epoch 9/20\n",
            "469/469 [==============================] - 299s 637ms/step - loss: 0.0100 - accuracy: 0.9967 - val_loss: 0.0251 - val_accuracy: 0.9924\n",
            "Epoch 10/20\n",
            "469/469 [==============================] - 297s 634ms/step - loss: 0.0093 - accuracy: 0.9972 - val_loss: 0.0256 - val_accuracy: 0.9931\n",
            "Epoch 11/20\n",
            "469/469 [==============================] - 297s 633ms/step - loss: 0.0083 - accuracy: 0.9973 - val_loss: 0.0279 - val_accuracy: 0.9920\n",
            "Epoch 12/20\n",
            "469/469 [==============================] - 298s 635ms/step - loss: 0.0078 - accuracy: 0.9974 - val_loss: 0.0282 - val_accuracy: 0.9935\n",
            "Epoch 13/20\n",
            "469/469 [==============================] - 298s 635ms/step - loss: 0.0072 - accuracy: 0.9976 - val_loss: 0.0276 - val_accuracy: 0.9925\n",
            "Epoch 14/20\n",
            "469/469 [==============================] - 296s 631ms/step - loss: 0.0076 - accuracy: 0.9977 - val_loss: 0.0326 - val_accuracy: 0.9906\n",
            "Epoch 15/20\n",
            "469/469 [==============================] - 288s 614ms/step - loss: 0.0056 - accuracy: 0.9983 - val_loss: 0.0479 - val_accuracy: 0.9898\n",
            "Epoch 16/20\n",
            "469/469 [==============================] - 298s 636ms/step - loss: 0.0062 - accuracy: 0.9981 - val_loss: 0.0246 - val_accuracy: 0.9927\n",
            "Epoch 17/20\n",
            "469/469 [==============================] - 297s 634ms/step - loss: 0.0051 - accuracy: 0.9984 - val_loss: 0.0380 - val_accuracy: 0.9903\n",
            "Epoch 18/20\n",
            "469/469 [==============================] - 296s 630ms/step - loss: 0.0067 - accuracy: 0.9977 - val_loss: 0.0434 - val_accuracy: 0.9905\n",
            "Epoch 19/20\n",
            "469/469 [==============================] - 295s 628ms/step - loss: 0.0051 - accuracy: 0.9984 - val_loss: 0.0280 - val_accuracy: 0.9932\n",
            "Epoch 20/20\n",
            "469/469 [==============================] - 294s 627ms/step - loss: 0.0046 - accuracy: 0.9985 - val_loss: 0.0357 - val_accuracy: 0.9902\n",
            "313/313 [==============================] - 13s 42ms/step - loss: 0.0357 - accuracy: 0.9902\n",
            "Test accuracy: 0.9901999831199646\n"
          ]
        }
      ]
    },
    {
      "cell_type": "code",
      "source": [
        "import numpy as np\n",
        "import matplotlib.pyplot as plt\n",
        "from tensorflow.keras.datasets import mnist\n",
        "from tensorflow.keras.models import Sequential\n",
        "from tensorflow.keras.layers import Conv2D, MaxPooling2D, Flatten, Dense\n",
        "from tensorflow.keras.utils import to_categorical\n",
        "\n",
        "# Load MNIST dataset\n",
        "(x_train, y_train), (x_test, y_test) = mnist.load_data()\n",
        "\n",
        "# Preprocess data\n",
        "x_train = x_train.reshape(-1, 28, 28, 1).astype('float32') / 255.0\n",
        "x_test = x_test.reshape(-1, 28, 28, 1).astype('float32') / 255.0\n",
        "y_train = to_categorical(y_train)\n",
        "y_test = to_categorical(y_test)\n",
        "\n",
        "# Define the model\n",
        "model = Sequential([\n",
        "    Conv2D(32, kernel_size=(3, 3), activation='relu', input_shape=(28, 28, 1)),\n",
        "    MaxPooling2D(pool_size=(2, 2)),\n",
        "    Flatten(),\n",
        "    Dense(128, activation='relu'),\n",
        "    Dense(10, activation='softmax')\n",
        "])\n",
        "\n",
        "# Compile the model\n",
        "model.compile(optimizer='adam', loss='categorical_crossentropy', metrics=['accuracy'])\n",
        "\n",
        "# Train the model\n",
        "model.fit(x_train, y_train, epochs=5, batch_size=32, verbose=1)\n",
        "\n",
        "# Predictions on the test set\n",
        "predictions = model.predict(x_test)\n",
        "predicted_labels = np.argmax(predictions, axis=1)\n",
        "actual_labels = np.argmax(y_test, axis=1)\n",
        "\n",
        "# Plot images with actual and predicted labels in order\n",
        "fig, axes = plt.subplots(2, 5, figsize=(12, 6))\n",
        "for i in range(10):\n",
        "    # Find the index of the first occurrence of digit i in the test labels\n",
        "    idx = np.where(actual_labels == i)[0][0]\n",
        "    ax = axes[i // 5, i % 5]  # Calculate subplot index\n",
        "    ax.imshow(x_test[idx].reshape(28, 28), cmap='gray')\n",
        "    ax.set_title(f\"Actual: {actual_labels[idx]}, Predicted: {predicted_labels[idx]}\")\n",
        "    ax.axis('off')\n",
        "\n",
        "plt.tight_layout()\n",
        "plt.show()"
      ],
      "metadata": {
        "colab": {
          "base_uri": "https://localhost:8080/",
          "height": 751
        },
        "id": "hl-5nJu0no8t",
        "outputId": "e0be0882-8040-4910-ce17-98aae085794a"
      },
      "execution_count": 12,
      "outputs": [
        {
          "output_type": "stream",
          "name": "stdout",
          "text": [
            "Epoch 1/5\n",
            "1875/1875 [==============================] - 38s 20ms/step - loss: 0.1438 - accuracy: 0.9574\n",
            "Epoch 2/5\n",
            "1875/1875 [==============================] - 37s 20ms/step - loss: 0.0507 - accuracy: 0.9841\n",
            "Epoch 3/5\n",
            "1875/1875 [==============================] - 36s 19ms/step - loss: 0.0318 - accuracy: 0.9901\n",
            "Epoch 4/5\n",
            "1875/1875 [==============================] - 36s 19ms/step - loss: 0.0206 - accuracy: 0.9935\n",
            "Epoch 5/5\n",
            "1875/1875 [==============================] - 36s 19ms/step - loss: 0.0133 - accuracy: 0.9959\n",
            "313/313 [==============================] - 3s 8ms/step\n"
          ]
        },
        {
          "output_type": "display_data",
          "data": {
            "text/plain": [
              "<Figure size 1200x600 with 10 Axes>"
            ],
            "image/png": "[encoded data removed]"
          },
          "metadata": {}
        }
      ]
    },
    {
      "cell_type": "code",
      "source": [
        "import tensorflow as tf\n",
        "from tensorflow.keras import layers, models\n",
        "\n",
        "# Load and preprocess the MNIST dataset\n",
        "(x_train, y_train), (x_test, y_test) = tf.keras.datasets.mnist.load_data()\n",
        "x_train = x_train.reshape((-1, 28, 28, 1)).astype('float32') / 255.0\n",
        "x_test = x_test.reshape((-1, 28, 28, 1)).astype('float32') / 255.0\n",
        "\n",
        "# Define GoogLeNet-like architecture\n",
        "def googlenet_model():\n",
        "    input_layer = layers.Input(shape=(28, 28, 1))\n",
        "\n",
        "    conv1 = layers.Conv2D(64, (7, 7), strides=(2, 2), padding='same', activation='relu')(input_layer)\n",
        "    pool1 = layers.MaxPooling2D(pool_size=(3, 3), strides=(2, 2), padding='same')(conv1)\n",
        "    norm1 = layers.BatchNormalization()(pool1)\n",
        "\n",
        "    inception2a = inception_module(norm1, 64, 96, 128, 16, 32, 32)\n",
        "    inception2b = inception_module(inception2a, 128, 128, 192, 32, 96, 64)\n",
        "    pool2 = layers.MaxPooling2D(pool_size=(3, 3), strides=(2, 2), padding='same')(inception2b)\n",
        "\n",
        "    inception3a = inception_module(pool2, 192, 96, 208, 16, 48, 64)\n",
        "    inception3b = inception_module(inception3a, 160, 112, 224, 24, 64, 64)\n",
        "\n",
        "    flatten = layers.Flatten()(inception3b)\n",
        "    dense1 = layers.Dense(1024, activation='relu')(flatten)\n",
        "    dropout = layers.Dropout(0.4)(dense1)\n",
        "    output_layer = layers.Dense(10, activation='softmax')(dropout)\n",
        "\n",
        "    model = models.Model(inputs=input_layer, outputs=output_layer)\n",
        "    return model\n",
        "\n",
        "def inception_module(prev_layer, conv1_filters, conv3_reduce_filters, conv3_filters, conv5_reduce_filters, conv5_filters, pool_filters):\n",
        "    conv1 = layers.Conv2D(conv1_filters, (1, 1), padding='same', activation='relu')(prev_layer)\n",
        "\n",
        "    conv3_reduce = layers.Conv2D(conv3_reduce_filters, (1, 1), padding='same', activation='relu')(prev_layer)\n",
        "    conv3 = layers.Conv2D(conv3_filters, (3, 3), padding='same', activation='relu')(conv3_reduce)\n",
        "\n",
        "    conv5_reduce = layers.Conv2D(conv5_reduce_filters, (1, 1), padding='same', activation='relu')(prev_layer)\n",
        "    conv5 = layers.Conv2D(conv5_filters, (5, 5), padding='same', activation='relu')(conv5_reduce)\n",
        "\n",
        "    pool = layers.MaxPooling2D((3, 3), strides=(1, 1), padding='same')(prev_layer)\n",
        "    pool_conv = layers.Conv2D(pool_filters, (1, 1), padding='same', activation='relu')(pool)\n",
        "\n",
        "    concat = layers.Concatenate(axis=-1)([conv1, conv3, conv5, pool_conv])\n",
        "    return concat\n",
        "\n",
        "# Create the model\n",
        "model = googlenet_model()\n",
        "\n",
        "# Compile the model\n",
        "model.compile(optimizer='adam',\n",
        "              loss='sparse_categorical_crossentropy',\n",
        "              metrics=['accuracy'])\n",
        "\n",
        "# Train the model\n",
        "history = model.fit(x_train, y_train, epochs=20, batch_size=128, validation_data=(x_test, y_test))\n",
        "\n",
        "# Evaluate the model\n",
        "test_loss, test_acc = model.evaluate(x_test, y_test)\n",
        "print(f'Test accuracy: {test_acc}')\n"
      ],
      "metadata": {
        "colab": {
          "base_uri": "https://localhost:8080/"
        },
        "id": "7k3r12C3kvEA",
        "outputId": "3043c850-6770-455a-9324-262c59eebb7f"
      },
      "execution_count": 14,
      "outputs": [
        {
          "output_type": "stream",
          "name": "stdout",
          "text": [
            "Epoch 1/20\n",
            "469/469 [==============================] - 587s 1s/step - loss: 0.1913 - accuracy: 0.9405 - val_loss: 0.0573 - val_accuracy: 0.9847\n",
            "Epoch 2/20\n",
            "469/469 [==============================] - 582s 1s/step - loss: 0.0513 - accuracy: 0.9847 - val_loss: 0.0486 - val_accuracy: 0.9851\n",
            "Epoch 3/20\n",
            "469/469 [==============================] - 580s 1s/step - loss: 0.0387 - accuracy: 0.9881 - val_loss: 0.0437 - val_accuracy: 0.9860\n",
            "Epoch 4/20\n",
            "469/469 [==============================] - 578s 1s/step - loss: 0.0315 - accuracy: 0.9906 - val_loss: 0.0388 - val_accuracy: 0.9883\n",
            "Epoch 5/20\n",
            "469/469 [==============================] - 587s 1s/step - loss: 0.0270 - accuracy: 0.9919 - val_loss: 0.0266 - val_accuracy: 0.9911\n",
            "Epoch 6/20\n",
            "469/469 [==============================] - 583s 1s/step - loss: 0.0252 - accuracy: 0.9920 - val_loss: 0.0366 - val_accuracy: 0.9902\n",
            "Epoch 7/20\n",
            "469/469 [==============================] - 579s 1s/step - loss: 0.0225 - accuracy: 0.9930 - val_loss: 0.0333 - val_accuracy: 0.9905\n",
            "Epoch 8/20\n",
            "469/469 [==============================] - 578s 1s/step - loss: 0.0187 - accuracy: 0.9940 - val_loss: 0.0348 - val_accuracy: 0.9898\n",
            "Epoch 9/20\n",
            "469/469 [==============================] - 585s 1s/step - loss: 0.0196 - accuracy: 0.9937 - val_loss: 0.0400 - val_accuracy: 0.9889\n",
            "Epoch 10/20\n",
            "469/469 [==============================] - 585s 1s/step - loss: 0.0170 - accuracy: 0.9948 - val_loss: 0.0604 - val_accuracy: 0.9852\n",
            "Epoch 11/20\n",
            "469/469 [==============================] - 584s 1s/step - loss: 0.0182 - accuracy: 0.9945 - val_loss: 0.0343 - val_accuracy: 0.9908\n",
            "Epoch 12/20\n",
            "469/469 [==============================] - 586s 1s/step - loss: 0.0167 - accuracy: 0.9951 - val_loss: 0.0319 - val_accuracy: 0.9902\n",
            "Epoch 13/20\n",
            "469/469 [==============================] - 583s 1s/step - loss: 0.0131 - accuracy: 0.9959 - val_loss: 0.0409 - val_accuracy: 0.9897\n",
            "Epoch 14/20\n",
            "469/469 [==============================] - 586s 1s/step - loss: 0.0126 - accuracy: 0.9965 - val_loss: 0.0288 - val_accuracy: 0.9924\n",
            "Epoch 15/20\n",
            "469/469 [==============================] - 583s 1s/step - loss: 0.0123 - accuracy: 0.9962 - val_loss: 0.0472 - val_accuracy: 0.9883\n",
            "Epoch 16/20\n",
            "469/469 [==============================] - 579s 1s/step - loss: 0.0182 - accuracy: 0.9946 - val_loss: 0.0254 - val_accuracy: 0.9934\n",
            "Epoch 17/20\n",
            "469/469 [==============================] - 581s 1s/step - loss: 0.0102 - accuracy: 0.9969 - val_loss: 0.0331 - val_accuracy: 0.9925\n",
            "Epoch 18/20\n",
            "469/469 [==============================] - 582s 1s/step - loss: 0.0110 - accuracy: 0.9969 - val_loss: 0.0502 - val_accuracy: 0.9874\n",
            "Epoch 19/20\n",
            "469/469 [==============================] - 583s 1s/step - loss: 0.0125 - accuracy: 0.9965 - val_loss: 0.0443 - val_accuracy: 0.9904\n",
            "Epoch 20/20\n",
            "469/469 [==============================] - 580s 1s/step - loss: 0.0109 - accuracy: 0.9969 - val_loss: 0.0386 - val_accuracy: 0.9905\n",
            "313/313 [==============================] - 23s 72ms/step - loss: 0.0386 - accuracy: 0.9905\n",
            "Test accuracy: 0.9904999732971191\n"
          ]
        }
      ]
    },
    {
      "cell_type": "code",
      "source": [
        "import numpy as np\n",
        "import matplotlib.pyplot as plt\n",
        "from tensorflow.keras.datasets import mnist\n",
        "\n",
        "# Load MNIST dataset\n",
        "(_, _), (x_test, y_test) = mnist.load_data()\n",
        "\n",
        "# Preprocess data\n",
        "x_test = x_test.reshape((-1, 28, 28, 1)).astype('float32') / 255.0\n",
        "\n",
        "# Define labels for each digit\n",
        "labels = ['0', '1', '2', '3', '4', '5', '6', '7', '8', '9']\n",
        "\n",
        "# Print the numbers from 0 to 9 along with their actual labels in a horizontal line\n",
        "plt.figure(figsize=(20, 4))\n",
        "for i in range(10):\n",
        "    # Find the index of the first occurrence of digit i in the test labels\n",
        "    idx = np.where(y_test == i)[0][0]\n",
        "\n",
        "    # Plot the digit\n",
        "    plt.subplot(1, 10, i + 1)\n",
        "    plt.imshow(x_test[idx].reshape(28, 28), cmap='gray')\n",
        "    plt.title(f'Actual: {labels[y_test[idx]]}')\n",
        "    plt.axis('off')\n",
        "\n",
        "plt.tight_layout()\n",
        "plt.show()\n"
      ],
      "metadata": {
        "colab": {
          "base_uri": "https://localhost:8080/",
          "height": 177
        },
        "id": "CUYr9cTMGZpq",
        "outputId": "82712d3c-03fa-490e-c706-5fd503004689"
      },
      "execution_count": 10,
      "outputs": [
        {
          "output_type": "display_data",
          "data": {
            "text/plain": [
              "<Figure size 2000x400 with 10 Axes>"
            ],
            "image/png": "[encoded data removed]"
          },
          "metadata": {}
        }
      ]
    }
  ]
}